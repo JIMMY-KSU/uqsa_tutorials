{
 "cells": [
  {
   "cell_type": "markdown",
   "metadata": {},
   "source": [
    "# Notebook overview\n",
    "\n",
    "In this git we have collected a number of notebooks aiming at\n",
    "introducing you to the application of uncertainty quantification and\n",
    "sensitivity analysis (UQSA).\n",
    "\n",
    "Below you find a hyperlinked overview which will take you to the various subtopics we have found to be useful in UQSA. \n",
    "\n",
    "  * [Preliminaries](preliminaries.ipynb) tries to present the statistical relations and laws needed to derive the Sobol indices\n",
    "\n",
    "  * [First order sensitivity indices](sensitivity_introduction.ipynb)\n",
    "\n",
    "  * [Higher order sensitivity indices](sensitivity_higher_order.ipynb)\n",
    "\n",
    "  * [Monte Carlo methods for UQSA](monte_carlo.ipynb)\n",
    "\n",
    "  * [Polynomial chaos expansion methods for UQSA](introduction_gpc.ipynb)\n",
    "\n",
    "  * [Exercises](exercises.ipynb)\n",
    "\n",
    "    * [UQSA of Arterial Wall models](wall_models.ipynb)\n",
    "\n",
    "    * [UQSA of the Ishigami function](ishigami_example.ipynb)"
   ]
  }
 ],
 "metadata": {
  "kernelspec": {
   "display_name": "Python 3",
   "language": "python",
   "name": "python3"
  },
  "language_info": {
   "codemirror_mode": {
    "name": "ipython",
    "version": 3
   },
   "file_extension": ".py",
   "mimetype": "text/x-python",
   "name": "python",
   "nbconvert_exporter": "python",
   "pygments_lexer": "ipython3",
   "version": "3.6.2"
  }
 },
 "nbformat": 4,
 "nbformat_minor": 2
}
